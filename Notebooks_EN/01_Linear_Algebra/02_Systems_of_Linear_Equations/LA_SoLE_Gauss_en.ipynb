{
  "cells": [
    {
      "cell_type": "markdown",
      "metadata": {
        "id": "AXT0P8ZH-zPw"
      },
      "source": [
        "# Gaussian Elimination Method\n",
        "\n",
        "Solving a system of linear equations using the Gaussian elimination method involves transforming the coefficient matrix of the system into an upper triangular matrix, followed by solving the system using back substitution.\n",
        "\n",
        "This is one of the most fundamental methods for solving systems of linear equations, especially in cases where the number of unknowns is different from the number of equations."
      ]
    },
    {
      "cell_type": "code",
      "execution_count": null,
      "metadata": {
        "id": "dApNStP0-zPz",
        "outputId": "fdc396e0-e1c3-4e43-ee7c-f2f010368c65"
      },
      "outputs": [
        {
          "data": {
            "text/markdown": [
              "**Initial equations:**"
            ],
            "text/plain": [
              "<IPython.core.display.Markdown object>"
            ]
          },
          "metadata": {},
          "output_type": "display_data"
        },
        {
          "data": {
            "text/markdown": [
              "System of equations:"
            ],
            "text/plain": [
              "<IPython.core.display.Markdown object>"
            ]
          },
          "metadata": {},
          "output_type": "display_data"
        },
        {
          "data": {
            "text/markdown": [
              "$$\\begin{aligned} 1 x_{1} + 2 x_{2} + 3 x_{3} = 10 \\\\ 4 x_{1} + 5 x_{2} + 6 x_{3} = 11 \\\\ 7 x_{1} + 8 x_{2} + 12 x_{3} = 18 \\end{aligned}$$"
            ],
            "text/plain": [
              "<IPython.core.display.Markdown object>"
            ]
          },
          "metadata": {},
          "output_type": "display_data"
        }
      ],
      "source": [
        "from sympy import Matrix, symbols, Eq, latex\n",
        "from IPython.display import display, Markdown\n",
        "import sympy as sp\n",
        "\n",
        "class SymbolicMatrix:\n",
        "    def __init__(self, matrix, column_labels=None, free_terms=None, display_mode=\"table\"):\n",
        "        self.matrix = Matrix(matrix)\n",
        "        self.operations = []\n",
        "        self.display_mode = display_mode\n",
        "\n",
        "        if column_labels:\n",
        "            if len(column_labels) != self.matrix.cols:\n",
        "                raise ValueError(\"The number of column labels must be equal to the number of columns in the matrix.\")\n",
        "            self.column_labels = column_labels\n",
        "        else:\n",
        "            self.column_labels = [f\"x{i+1}\" for i in range(self.matrix.cols)]\n",
        "\n",
        "        if free_terms:\n",
        "            if len(free_terms) != self.matrix.rows:\n",
        "                raise ValueError(\"The number of free terms must be equal to the number of rows in the matrix.\")\n",
        "            self.free_terms = free_terms\n",
        "        else:\n",
        "            self.free_terms = [0 for _ in range(self.matrix.rows)]\n",
        "\n",
        "        display(Markdown(\"**Initial equations:**\"))\n",
        "        self.display_matrix()\n",
        "\n",
        "    def set_display_mode(self, mode):\n",
        "        if mode not in [\"table\", \"equations\"]:\n",
        "            raise ValueError(\"Display mode must be 'table' or 'equations'.\")\n",
        "        self.display_mode = mode\n",
        "\n",
        "    def display_matrix(self):\n",
        "        if self.display_mode == \"table\":\n",
        "            self._display_table()\n",
        "        elif self.display_mode == \"equations\":\n",
        "            self._display_equations()\n",
        "\n",
        "    def _display_table(self):\n",
        "        matrix_with_free_terms = self.matrix.row_join(Matrix(self.free_terms))\n",
        "        headers = self.column_labels + [\"Free term\"]\n",
        "        display(Markdown(self._matrix_to_markdown(matrix_with_free_terms, headers)))\n",
        "\n",
        "    def _matrix_to_markdown(self, matrix, headers):\n",
        "        markdown_str = \"| \" + \" | \".join(headers) + \" |\\n\"\n",
        "        markdown_str += \"| \" + \" | \".join([\"---\"] * len(headers)) + \" |\\n\"\n",
        "        for i in range(matrix.rows):\n",
        "            row = [str(matrix[i, j]) for j in range(matrix.cols)]\n",
        "            markdown_str += \"| \" + \" | \".join(row) + \" |\\n\"\n",
        "        return markdown_str\n",
        "\n",
        "    def _display_equations(self):\n",
        "        equations = []\n",
        "        for i in range(self.matrix.rows):\n",
        "            terms = []\n",
        "            for j in range(self.matrix.cols):\n",
        "                coef = self.matrix[i, j]\n",
        "                var = symbols(self.column_labels[j])\n",
        "\n",
        "                # Check if the coefficient is positive, negative, or zero\n",
        "                if coef > 0:\n",
        "                    if j == 0:\n",
        "                        terms.append(f\"{latex(coef)} {latex(var)}\")\n",
        "                    else:\n",
        "                        terms.append(f\"+ {latex(coef)} {latex(var)}\")\n",
        "                elif coef < 0:\n",
        "                    terms.append(f\"- {latex(abs(coef))} {latex(var)}\")\n",
        "                elif coef == 0:\n",
        "                    if j == 0:\n",
        "                        terms.append(f\"0 {latex(var)}\")\n",
        "                    else:\n",
        "                        terms.append(f\"+0 {latex(var)}\")\n",
        "\n",
        "            lhs = \" \".join(terms)\n",
        "            rhs = latex(self.free_terms[i])\n",
        "\n",
        "            equation = f\"{lhs} = {rhs}\"\n",
        "            equations.append(equation)\n",
        "\n",
        "        display(Markdown(\"System of equations:\"))\n",
        "        display(Markdown(f\"$$\\\\begin{{aligned}} {self._equations_to_latex(equations)} \\\\end{{aligned}}$$\"))\n",
        "\n",
        "    def _equations_to_latex(self, equations):\n",
        "        return \" \\\\\\\\ \".join(equations)\n",
        "\n",
        "    def add_row(self, target_row, source_row, coefficient):\n",
        "        target_idx = self._validate_row_number(target_row)\n",
        "        source_idx = self._validate_row_number(source_row)\n",
        "\n",
        "        # Operation on the matrix\n",
        "        self.matrix.row_op(target_idx, lambda v, j: v + coefficient * self.matrix[source_idx, j])\n",
        "\n",
        "        # Operation on the free terms\n",
        "        self.free_terms[target_idx] += coefficient * self.free_terms[source_idx]\n",
        "\n",
        "        operation_str = f\"r{target_row} = r{target_row} + {coefficient}*r{source_row}\"\n",
        "        self.operations.append(operation_str)\n",
        "        display(Markdown(f\"**Operation:** {operation_str}\"))\n",
        "        self.display_matrix()\n",
        "\n",
        "    def multiply_row(self, row, coefficient):\n",
        "        row_idx = self._validate_row_number(row)\n",
        "\n",
        "        # Operation on the matrix\n",
        "        self.matrix.row_op(row_idx, lambda v, _: coefficient * v)\n",
        "\n",
        "        # Operation on the free terms\n",
        "        self.free_terms[row_idx] *= coefficient\n",
        "\n",
        "        operation_str = f\"r{row} = {coefficient}*r{row}\"\n",
        "        self.operations.append(operation_str)\n",
        "        display(Markdown(f\"**Operation:** {operation_str}\"))\n",
        "        self.display_matrix()\n",
        "\n",
        "    def swap_rows(self, row1, row2):\n",
        "        row1_idx = self._validate_row_number(row1)\n",
        "        row2_idx = self._validate_row_number(row2)\n",
        "\n",
        "        self.matrix.row_swap(row1_idx, row2_idx)\n",
        "        self.free_terms[row1_idx], self.free_terms[row2_idx] = self.free_terms[row2_idx], self.free_terms[row1_idx]\n",
        "\n",
        "        operation_str = f\"Swap r{row1} <-> r{row2}\"\n",
        "        self.operations.append(operation_str)\n",
        "        display(Markdown(f\"**Operation:** {operation_str}\"))\n",
        "        self.display_matrix()\n",
        "\n",
        "    def swap_columns(self, col1, col2):\n",
        "        col1_idx = self._validate_col_number(col1)\n",
        "        col2_idx = self._validate_col_number(col2)\n",
        "\n",
        "        self.matrix.col_swap(col1_idx, col2_idx)\n",
        "        self.column_labels[col1_idx], self.column_labels[col2_idx] = self.column_labels[col2_idx], self.column_labels[col1_idx]\n",
        "\n",
        "        operation_str = f\"Swap col{col1} <-> col{col2}\"\n",
        "        self.operations.append(operation_str)\n",
        "        display(Markdown(f\"**Operation:** {operation_str}\"))\n",
        "        self.display_matrix()\n",
        "\n",
        "    def _validate_row_number(self, row):\n",
        "        if not isinstance(row, int):\n",
        "            raise TypeError(\"Row number must be an integer.\")\n",
        "        if row < 1 or row > self.matrix.rows:\n",
        "            raise IndexError(f\"Row number must be between 1 and {self.matrix.rows}.\")\n",
        "        return row - 1\n",
        "\n",
        "    def _validate_col_number(self, col):\n",
        "        if not isinstance(col, int):\n",
        "            raise TypeError(\"Column number must be an integer.\")\n",
        "        if col < 1 or col > self.matrix.cols:\n",
        "            raise IndexError(f\"Column number must be between 1 and {self.matrix.cols}.\")\n",
        "        return col - 1\n",
        "\n",
        "    def print_operations(self):\n",
        "        display(Markdown(\"**Performed operations:**\"))\n",
        "        for op in self.operations:\n",
        "            print(op)\n",
        "\n",
        "# Example usage:\n",
        "m = SymbolicMatrix([[1,2,3], [4,5,6], [7,8,12]], column_labels=[\"x1\", \"x2\", \"x3\"], free_terms=[10, 11, 18], display_mode=\"equations\")\n"
      ]
    },
    {
      "cell_type": "code",
      "execution_count": null,
      "metadata": {
        "id": "6506G5R7-zP0",
        "outputId": "9237ba26-4885-4fac-bdb5-d2d24c090af0"
      },
      "outputs": [
        {
          "data": {
            "text/markdown": [
              "**Operation:** r2 = r2 + -4*r1"
            ],
            "text/plain": [
              "<IPython.core.display.Markdown object>"
            ]
          },
          "metadata": {},
          "output_type": "display_data"
        },
        {
          "data": {
            "text/markdown": [
              "System of equations:"
            ],
            "text/plain": [
              "<IPython.core.display.Markdown object>"
            ]
          },
          "metadata": {},
          "output_type": "display_data"
        },
        {
          "data": {
            "text/markdown": [
              "$$\\begin{aligned} 1 x_{1} + 2 x_{2} + 3 x_{3} = 10 \\\\ 0 x_{1} - 3 x_{2} - 6 x_{3} = -29 \\\\ 7 x_{1} + 8 x_{2} + 12 x_{3} = 18 \\end{aligned}$$"
            ],
            "text/plain": [
              "<IPython.core.display.Markdown object>"
            ]
          },
          "metadata": {},
          "output_type": "display_data"
        }
      ],
      "source": [
        "m.add_row(2, 1, -4)"
      ]
    },
    {
      "cell_type": "code",
      "execution_count": null,
      "metadata": {
        "id": "XdXREZZ8-zP1",
        "outputId": "6adb3539-fe9f-49ea-8134-e1235473e0b0"
      },
      "outputs": [
        {
          "data": {
            "text/markdown": [
              "**Operation:** r3 = r3 + -7*r1"
            ],
            "text/plain": [
              "<IPython.core.display.Markdown object>"
            ]
          },
          "metadata": {},
          "output_type": "display_data"
        },
        {
          "data": {
            "text/markdown": [
              "System of equations:"
            ],
            "text/plain": [
              "<IPython.core.display.Markdown object>"
            ]
          },
          "metadata": {},
          "output_type": "display_data"
        },
        {
          "data": {
            "text/markdown": [
              "$$\\begin{aligned} 1 x_{1} + 2 x_{2} + 3 x_{3} = 10 \\\\ 0 x_{1} - 3 x_{2} - 6 x_{3} = -29 \\\\ 0 x_{1} - 6 x_{2} - 9 x_{3} = -52 \\end{aligned}$$"
            ],
            "text/plain": [
              "<IPython.core.display.Markdown object>"
            ]
          },
          "metadata": {},
          "output_type": "display_data"
        }
      ],
      "source": [
        "m.add_row(3, 1, -7)"
      ]
    },
    {
      "cell_type": "code",
      "execution_count": null,
      "metadata": {
        "id": "MEfgb9yz-zP1",
        "outputId": "d24dc399-21f9-4072-ad0c-b3e40e8ae639"
      },
      "outputs": [
        {
          "data": {
            "text/markdown": [
              "**Operation:** r3 = r3 + -2*r2"
            ],
            "text/plain": [
              "<IPython.core.display.Markdown object>"
            ]
          },
          "metadata": {},
          "output_type": "display_data"
        },
        {
          "data": {
            "text/markdown": [
              "System of equations:"
            ],
            "text/plain": [
              "<IPython.core.display.Markdown object>"
            ]
          },
          "metadata": {},
          "output_type": "display_data"
        },
        {
          "data": {
            "text/markdown": [
              "$$\\begin{aligned} 1 x_{1} + 2 x_{2} + 3 x_{3} = 10 \\\\ 0 x_{1} - 3 x_{2} - 6 x_{3} = -29 \\\\ 0 x_{1} +0 x_{2} + 3 x_{3} = 6 \\end{aligned}$$"
            ],
            "text/plain": [
              "<IPython.core.display.Markdown object>"
            ]
          },
          "metadata": {},
          "output_type": "display_data"
        }
      ],
      "source": [
        "m.add_row(3, 2, -2)"
      ]
    },
    {
      "cell_type": "code",
      "execution_count": null,
      "metadata": {
        "id": "fNwqrlIL-zP1"
      },
      "outputs": [],
      "source": [
        "# We have 3 equations, so we end the operation\n",
        "# Define symbols\n",
        "x1, x2, x3 = symbols('x1 x2 x3')\n",
        "# Define equations\n",
        "eq1 = Eq(x1 + 2*x2 + 3*x3, 10)\n",
        "eq2 = Eq(-3*x2 - 6*x3, -29)\n",
        "eq3 = Eq(3*x3, 6)"
      ]
    },
    {
      "cell_type": "code",
      "execution_count": null,
      "metadata": {
        "id": "qTlc-RGT-zP1",
        "outputId": "a44cd691-092e-4907-d343-161f0486381a"
      },
      "outputs": [
        {
          "data": {
            "text/latex": [
              "$\\displaystyle 2$"
            ],
            "text/plain": [
              "2"
            ]
          },
          "execution_count": 14,
          "metadata": {},
          "output_type": "execute_result"
        }
      ],
      "source": [
        "sol_x3 = sp.solve(eq3, x3)[0]\n",
        "sol_x3"
      ]
    },
    {
      "cell_type": "code",
      "execution_count": null,
      "metadata": {
        "id": "K15E34tA-zP1",
        "outputId": "82226c20-86c3-41b7-e978-69d67a2700a0"
      },
      "outputs": [
        {
          "data": {
            "text/latex": [
              "$\\displaystyle \\frac{17}{3}$"
            ],
            "text/plain": [
              "17/3"
            ]
          },
          "execution_count": 15,
          "metadata": {},
          "output_type": "execute_result"
        }
      ],
      "source": [
        "# Substitute solution x3 into equation 2\n",
        "eq2 = eq2.subs(x3, sol_x3)\n",
        "# Solve equation 2\n",
        "sol_x2 = sp.solve(eq2, x2)[0]\n",
        "sol_x2"
      ]
    },
    {
      "cell_type": "code",
      "execution_count": null,
      "metadata": {
        "id": "oxrXEhWD-zP2",
        "outputId": "afb574f2-6b81-4ea8-c78b-7fe079e22a31"
      },
      "outputs": [
        {
          "data": {
            "text/latex": [
              "$\\displaystyle - \\frac{22}{3}$"
            ],
            "text/plain": [
              "-22/3"
            ]
          },
          "execution_count": 16,
          "metadata": {},
          "output_type": "execute_result"
        }
      ],
      "source": [
        "# Substitute solutions x2 and x3 into equation 1\n",
        "eq1 = eq1.subs({x2: sol_x2, x3: sol_x3})\n",
        "# Solve equation 1\n",
        "sol_x1 = sp.solve(eq1, x1)[0]\n",
        "sol_x1"
      ]
    },
    {
      "cell_type": "markdown",
      "metadata": {
        "id": "QyTy0HqM-zP2"
      },
      "source": [
        "---\n",
        "\n",
        "## Exercises for Students\n",
        "\n",
        "$$\n",
        "\\left\\{\\begin{array}{c}{x+2 y-2 z=4} \\\\ {2 x+y+z=0} \\\\ {3 x+2 y+z=1}\\end{array}\\right.\\quad\n",
        "\\left\\{\\begin{array}{c}{x+y+z-t=2} \\\\ {2 x+y+z=3} \\\\ {-x+z-t=0} \\\\ {3 x+2 y-z+2 t=-1}\\end{array}\\right.\\quad\n",
        "\\left\\{\\begin{array}{c}{x+y-z-t=0} \\\\ {2 x+3 y-2 z+t=4} \\\\ {3 x+5 z=0} \\\\ {-x+y-3 z+2 t=3}\\end{array}\\right.\n",
        "$$"
      ]
    },
    {
      "cell_type": "markdown",
      "source": [
        "## Solving a System of Equations Using Gaussian Elimination\n",
        "\n",
        "### Given System of Equations:\n",
        "The system of equations is:\n",
        "$$\n",
        "\\begin{aligned}\n",
        "x + 2y - 2z &= 4, \\\\\n",
        "2x + y + z &= 0, \\\\\n",
        "3x + 2y + z &= 1.\n",
        "\\end{aligned}\n",
        "$$\n",
        "\n",
        "### Step 1: Write the System in Augmented Matrix Form\n",
        "The augmented matrix is:\n",
        "$$\n",
        "\\begin{bmatrix}\n",
        "1 & 2 & -2 & | & 4 \\\\\n",
        "2 & 1 & 1 & | & 0 \\\\\n",
        "3 & 2 & 1 & | & 1\n",
        "\\end{bmatrix}.\n",
        "$$\n",
        "\n",
        "---\n",
        "\n",
        "### Step 2: Apply Row Operations to Achieve Row Echelon Form\n",
        "\n",
        "1. Subtract \\(2 \\times \\text{(Row 1)}\\) from Row 2:\n",
        "   $$\n",
        "   R_2 \\to R_2 - 2R_1\n",
        "   $$\n",
        "   Result:\n",
        "   $$\n",
        "   \\begin{bmatrix}\n",
        "   1 & 2 & -2 & | & 4 \\\\\n",
        "   0 & -3 & 5 & | & -8 \\\\\n",
        "   3 & 2 & 1 & | & 1\n",
        "   \\end{bmatrix}.\n",
        "   $$\n",
        "\n",
        "2. Subtract \\(3 \\times \\text{(Row 1)}\\) from Row 3:\n",
        "   $$\n",
        "   R_3 \\to R_3 - 3R_1\n",
        "   $$\n",
        "   Result:\n",
        "   $$\n",
        "   \\begin{bmatrix}\n",
        "   1 & 2 & -2 & | & 4 \\\\\n",
        "   0 & -3 & 5 & | & -8 \\\\\n",
        "   0 & -4 & 7 & | & -11\n",
        "   \\end{bmatrix}.\n",
        "   $$\n",
        "\n",
        "3. Divide Row 2 by \\(-3\\) to simplify:\n",
        "   $$\n",
        "   R_2 \\to \\frac{R_2}{-3}\n",
        "   $$\n",
        "   Result:\n",
        "   $$\n",
        "   \\begin{bmatrix}\n",
        "   1 & 2 & -2 & | & 4 \\\\\n",
        "   0 & 1 & -\\frac{5}{3} & | & \\frac{8}{3} \\\\\n",
        "   0 & -4 & 7 & | & -11\n",
        "   \\end{bmatrix}.\n",
        "   $$\n",
        "\n",
        "4. Add \\(4 \\times \\text{(Row 2)}\\) to Row 3:\n",
        "   $$\n",
        "   R_3 \\to R_3 + 4R_2\n",
        "   $$\n",
        "   Result:\n",
        "   $$\n",
        "   \\begin{bmatrix}\n",
        "   1 & 2 & -2 & | & 4 \\\\\n",
        "   0 & 1 & -\\frac{5}{3} & | & \\frac{8}{3} \\\\\n",
        "   0 & 0 & \\frac{4}{3} & | & \\frac{1}{3}\n",
        "   \\end{bmatrix}.\n",
        "   $$\n",
        "\n",
        "5. Multiply Row 3 by \\( \\frac{3}{4} \\):\n",
        "   $$\n",
        "   R_3 \\to \\frac{3}{4} R_3\n",
        "   $$\n",
        "   Result:\n",
        "   $$\n",
        "   \\begin{bmatrix}\n",
        "   1 & 2 & -2 & | & 4 \\\\\n",
        "   0 & 1 & -\\frac{5}{3} & | & \\frac{8}{3} \\\\\n",
        "   0 & 0 & 1 & | & \\frac{1}{4}\n",
        "   \\end{bmatrix}.\n",
        "   $$\n",
        "\n",
        "---\n",
        "\n",
        "### Step 3: Back-Substitution\n",
        "\n",
        "1. From Row 3:\n",
        "   $$\n",
        "   z = \\frac{1}{4}.\n",
        "   $$\n",
        "\n",
        "2. From Row 2:\n",
        "   $$\n",
        "   y - \\frac{5}{3}z = \\frac{8}{3},\n",
        "   $$\n",
        "   $$\n",
        "   y - \\frac{5}{3} \\cdot \\frac{1}{4} = \\frac{8}{3},\n",
        "   $$\n",
        "   $$\n",
        "   y = \\frac{8}{3} + \\frac{5}{12} = \\frac{32}{12} + \\frac{5}{12} = \\frac{37}{12}.\n",
        "   $$\n",
        "\n",
        "3. From Row 1:\n",
        "   $$\n",
        "   x + 2y - 2z = 4,\n",
        "   $$\n",
        "   $$\n",
        "   x + 2 \\cdot \\frac{37}{12} - 2 \\cdot \\frac{1}{4} = 4,\n",
        "   $$\n",
        "   $$\n",
        "   x + \\frac{74}{12} - \\frac{6}{12} = 4,\n",
        "   $$\n",
        "   $$\n",
        "   x + \\frac{68}{12} = 4,\n",
        "   $$\n",
        "   $$\n",
        "   x = 4 - \\frac{68}{12} = \\frac{48}{12} - \\frac{68}{12} = -\\frac{20}{12} = -\\frac{5}{3}.\n",
        "   $$\n",
        "\n",
        "---\n",
        "\n",
        "### Final Solution\n",
        "\n",
        "The solution to the system is:\n",
        "$$\n",
        "x = -\\frac{5}{3}, \\quad y = \\frac{37}{12}, \\quad z = \\frac{1}{4}.\n",
        "$$\n",
        "\n",
        "-----------------------------------------"
      ],
      "metadata": {
        "id": "t-v8al1g-8hr"
      }
    },
    {
      "cell_type": "markdown",
      "source": [
        "## Solving a System of Equations Using Gaussian Elimination\n",
        "\n",
        "### Given System of Equations:\n",
        "The system of equations is:\n",
        "$$\n",
        "\\begin{aligned}\n",
        "x + y + z - t &= 2, \\\\\n",
        "2x + y + z &= 3, \\\\\n",
        "-x + z - t &= 0, \\\\\n",
        "3x + 2y - z + 2t &= -1.\n",
        "\\end{aligned}\n",
        "$$\n",
        "\n",
        "---\n",
        "\n",
        "### Step 1: Write the System in Augmented Matrix Form\n",
        "The augmented matrix is:\n",
        "$$\n",
        "\\begin{bmatrix}\n",
        "1 & 1 & 1 & -1 & | & 2 \\\\\n",
        "2 & 1 & 1 & 0 & | & 3 \\\\\n",
        "-1 & 0 & 1 & -1 & | & 0 \\\\\n",
        "3 & 2 & -1 & 2 & | & -1\n",
        "\\end{bmatrix}.\n",
        "$$\n",
        "\n",
        "---\n",
        "\n",
        "### Step 2: Apply Row Operations to Achieve Row Echelon Form\n",
        "\n",
        "1. Eliminate the first column for rows below Row 1:\n",
        "   - Subtract \\(2 \\times \\text{(Row 1)}\\) from Row 2:\n",
        "     $$\n",
        "     R_2 \\to R_2 - 2R_1\n",
        "     $$\n",
        "   - Add \\(1 \\times \\text{(Row 1)}\\) to Row 3:\n",
        "     $$\n",
        "     R_3 \\to R_3 + R_1\n",
        "     $$\n",
        "   - Subtract \\($3 \\times \\text{(Row 1)}\\) from Row 4:\n",
        "     $$\n",
        "     R_4 \\to R_4 - 3R_1\n",
        "     $$\n",
        "   Result:\n",
        "   $$\n",
        "   \\begin{bmatrix}\n",
        "   1 & 1 & 1 & -1 & | & 2 \\\\\n",
        "   0 & -1 & -1 & 2 & | & -1 \\\\\n",
        "   0 & 1 & 2 & -2 & | & 2 \\\\\n",
        "   0 & -1 & -4 & 5 & | & -7\n",
        "   \\end{bmatrix}.\n",
        "   $$\n",
        "\n",
        "2. Simplify Row 2 by multiplying by \\(-1\\):\n",
        "   $$\n",
        "   R_2 \\to -R_2\n",
        "   $$\n",
        "   Result:\n",
        "   $$\n",
        "   \\begin{bmatrix}\n",
        "   1 & 1 & 1 & -1 & | & 2 \\\\\n",
        "   0 & 1 & 1 & -2 & | & 1 \\\\\n",
        "   0 & 1 & 2 & -2 & | & 2 \\\\\n",
        "   0 & -1 & -4 & 5 & | & -7\n",
        "   \\end{bmatrix}.\n",
        "   $$\n",
        "\n",
        "3. Eliminate the second column for rows below Row 2:\n",
        "   - Subtract \\(1 \\times \\text{(Row 2)}\\) from Row 3:\n",
        "     $$\n",
        "     R_3 \\to R_3 - R_2\n",
        "     $$\n",
        "   - Add \\(1 \\times \\text{(Row 2)}\\) to Row 4:\n",
        "     $$\n",
        "     R_4 \\to R_4 + R_2\n",
        "     $$\n",
        "   Result:\n",
        "   $$\n",
        "   \\begin{bmatrix}\n",
        "   1 & 1 & 1 & -1 & | & 2 \\\\\n",
        "   0 & 1 & 1 & -2 & | & 1 \\\\\n",
        "   0 & 0 & 1 & 0 & | & 1 \\\\\n",
        "   0 & 0 & -3 & 3 & | & -6\n",
        "   \\end{bmatrix}.\n",
        "   $$\n",
        "\n",
        "4. Simplify Row 4 by dividing by \\(-3\\):\n",
        "   $$\n",
        "   R_4 \\to \\frac{R_4}{-3}\n",
        "   $$\n",
        "   Result:\n",
        "   $$\n",
        "   \\begin{bmatrix}\n",
        "   1 & 1 & 1 & -1 & | & 2 \\\\\n",
        "   0 & 1 & 1 & -2 & | & 1 \\\\\n",
        "   0 & 0 & 1 & 0 & | & 1 \\\\\n",
        "   0 & 0 & 1 & -1 & | & 2\n",
        "   \\end{bmatrix}.\n",
        "   $$\n",
        "\n",
        "5. Subtract \\(1 \\times \\text{(Row 3)}\\) from Row 4:\n",
        "   $$\n",
        "   R_4 \\to R_4 - R_3\n",
        "   $$\n",
        "   Result:\n",
        "   $$\n",
        "   \\begin{bmatrix}\n",
        "   1 & 1 & 1 & -1 & | & 2 \\\\\n",
        "   0 & 1 & 1 & -2 & | & 1 \\\\\n",
        "   0 & 0 & 1 & 0 & | & 1 \\\\\n",
        "   0 & 0 & 0 & -1 & | & 1\n",
        "   \\end{bmatrix}.\n",
        "   $$\n",
        "\n",
        "---\n",
        "\n",
        "### Step 3: Back-Substitution\n",
        "\n",
        "1. From Row 4:\n",
        "   $$\n",
        "   -t = 1 \\quad \\Rightarrow \\quad t = -1.\n",
        "   $$\n",
        "\n",
        "2. From Row 3:\n",
        "   $$\n",
        "   z = 1.\n",
        "   $$\n",
        "\n",
        "3. From Row 2:\n",
        "   $$\n",
        "   y + z - 2t = 1,\n",
        "   $$\n",
        "   $$\n",
        "   y + 1 - 2(-1) = 1,\n",
        "   $$\n",
        "   $$\n",
        "   y = 1 - 1 - 2 = -1.\n",
        "   $$\n",
        "\n",
        "4. From Row 1:\n",
        "   $$\n",
        "   x + y + z - t = 2,\n",
        "   $$\n",
        "   $$\n",
        "   x - 1 + 1 - (-1) = 2,\n",
        "   $$\n",
        "   $$\n",
        "   x = 1.\n",
        "   $$\n",
        "\n",
        "---\n",
        "\n",
        "### Final Solution\n",
        "\n",
        "The solution to the system is:\n",
        "$$\n",
        "x = 1, \\quad y = -1, \\quad z = 1, \\quad t = -1.\n",
        "$$\n",
        "\n",
        "-------------------------------------------------------------------------"
      ],
      "metadata": {
        "id": "SRuvxNuH-9-U"
      }
    },
    {
      "cell_type": "markdown",
      "source": [
        "### Solving the System of Equations\n",
        "\n",
        "Given the system of equations:\n",
        "\n",
        "$$\n",
        "\\begin{aligned}\n",
        "x + y - z - t &= 0 \\quad \\text{(1)} \\\\\n",
        "2x + 3y - 2z + t &= 4 \\quad \\text{(2)} \\\\\n",
        "3x + 5z &= 0 \\quad \\text{(3)} \\\\\n",
        "-x + y - 3z + 2t &= 3 \\quad \\text{(4)}\n",
        "\\end{aligned}\n",
        "$$\n",
        "\n",
        "#### Steps to Solve\n",
        "\n",
        "1. *Step 1: Simplify the system.*\n",
        "\n",
        "   From equation (3):\n",
        "\n",
        "   $$\n",
        "   3x + 5z = 0 \\implies x = -\\frac{5z}{3} \\quad \\text{(5)}\n",
        "   $$\n",
        "\n",
        "   Substitute \\(x = -\\frac{5z}{3}\\) into the other equations.\n",
        "\n",
        "2. *Step 2: Substitute into equation (1):*\n",
        "\n",
        "   $$\n",
        "   x + y - z - t = 0 \\implies -\\frac{5z}{3} + y - z - t = 0\n",
        "   $$\n",
        "\n",
        "   Simplify:\n",
        "\n",
        "   $$\n",
        "   y - t - \\frac{8z}{3} = 0 \\implies y = t + \\frac{8z}{3} \\quad \\text{(6)}\n",
        "   $$\n",
        "\n",
        "3. *Step 3: Substitute into equation (2):*\n",
        "\n",
        "   $$\n",
        "   2x + 3y - 2z + t = 4\n",
        "   $$\n",
        "\n",
        "   Substituting \\(x = -\\frac{5z}{3}\\) and \\(y = t + \\frac{8z}{3}\\):\n",
        "\n",
        "   $$\n",
        "   2\\left(-\\frac{5z}{3}\\right) + 3\\left(t + \\frac{8z}{3}\\right) - 2z + t = 4\n",
        "   $$\n",
        "\n",
        "   Simplify:\n",
        "\n",
        "   $$\n",
        "   -\\frac{10z}{3} + 3t + 8z - 2z + t = 4\n",
        "   $$\n",
        "\n",
        "   Combine terms:\n",
        "\n",
        "   $$\n",
        "   3t + t + \\left(8z - \\frac{10z}{3} - 2z\\right) = 4 \\implies 4t + \\frac{2z}{3} = 4\n",
        "   $$\n",
        "\n",
        "   Solve for \\(t\\):\n",
        "\n",
        "   $$\n",
        "   t = 1 - \\frac{z}{6} \\quad \\text{(7)}\n",
        "   $$\n",
        "\n",
        "4. *Step 4: Substitute into equation (4):*\n",
        "\n",
        "   $$\n",
        "   -x + y - 3z + 2t = 3\n",
        "   $$\n",
        "\n",
        "   Substituting \\(x = -\\frac{5z}{3}\\), \\(y = t + \\frac{8z}{3}\\), and \\(t = 1 - \\frac{z}{6}\\):\n",
        "\n",
        "   $$\n",
        "   -\\left(-\\frac{5z}{3}\\right) + \\left(1 - \\frac{z}{6} + \\frac{8z}{3}\\right) - 3z + 2\\left(1 - \\frac{z}{6}\\right) = 3\n",
        "   $$\n",
        "\n",
        "   Simplify:\n",
        "\n",
        "   $$\n",
        "   \\frac{5z}{3} + 1 - \\frac{z}{6} + \\frac{8z}{3} - 3z + 2 - \\frac{z}{3} = 3\n",
        "   $$\n",
        "\n",
        "   Combine terms:\n",
        "\n",
        "   $$\n",
        "   3 + \\left(\\frac{5z}{3} + \\frac{8z}{3} - 3z - \\frac{z}{6} - \\frac{z}{3}\\right) = 3\n",
        "   $$\n",
        "\n",
        "   $$\n",
        "   \\frac{z}{6} = 0 \\implies z = 0\n",
        "   $$\n",
        "\n",
        "5. *Step 5: Solve for other variables:*\n",
        "\n",
        "   - From \\(z = 0\\), equation (5) gives \\(x = 0\\).\n",
        "   - Substitute \\(z = 0\\) into equation (7): \\(t = 1\\).\n",
        "   - Substitute \\(z = 0\\) and \\(t = 1\\) into equation (6): \\(y = 1\\).\n",
        "\n",
        "#### Final Solution:\n",
        "\n",
        "$$\n",
        "x = 0, \\quad y = 1, \\quad z = 0, \\quad t = 1\n",
        "$$"
      ],
      "metadata": {
        "id": "m0gqP8lN_ME_"
      }
    },
    {
      "cell_type": "markdown",
      "metadata": {
        "id": "9tRKLeC6-zP2"
      },
      "source": []
    },
    {
      "cell_type": "markdown",
      "metadata": {
        "id": "aVqXzfGu-zP2"
      },
      "source": []
    },
    {
      "cell_type": "markdown",
      "metadata": {
        "id": "9D5Sy3Ij-zP2"
      },
      "source": []
    }
  ],
  "metadata": {
    "kernelspec": {
      "display_name": ".venv",
      "language": "python",
      "name": "python3"
    },
    "language_info": {
      "codemirror_mode": {
        "name": "ipython",
        "version": 3
      },
      "file_extension": ".py",
      "mimetype": "text/x-python",
      "name": "python",
      "nbconvert_exporter": "python",
      "pygments_lexer": "ipython3",
      "version": "3.11.9"
    },
    "colab": {
      "provenance": []
    }
  },
  "nbformat": 4,
  "nbformat_minor": 0
}